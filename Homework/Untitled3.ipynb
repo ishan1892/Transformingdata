{
 "cells": [
  {
   "cell_type": "code",
   "execution_count": 1,
   "metadata": {
    "collapsed": false
   },
   "outputs": [
    {
     "ename": "ImportError",
     "evalue": "No module named temboo.Library.Google.Geocoding",
     "output_type": "error",
     "traceback": [
      "\u001b[0;31m---------------------------------------------------------------------------\u001b[0m",
      "\u001b[0;31mImportError\u001b[0m                               Traceback (most recent call last)",
      "\u001b[0;32m<ipython-input-1-1ea7d9c188a0>\u001b[0m in \u001b[0;36m<module>\u001b[0;34m()\u001b[0m\n\u001b[0;32m----> 1\u001b[0;31m \u001b[0;32mfrom\u001b[0m \u001b[0mtemboo\u001b[0m\u001b[0;34m.\u001b[0m\u001b[0mLibrary\u001b[0m\u001b[0;34m.\u001b[0m\u001b[0mGoogle\u001b[0m\u001b[0;34m.\u001b[0m\u001b[0mGeocoding\u001b[0m \u001b[0;32mimport\u001b[0m \u001b[0mGeocodeByAddress\u001b[0m\u001b[0;34m\u001b[0m\u001b[0m\n\u001b[0m\u001b[1;32m      2\u001b[0m \u001b[0;32mfrom\u001b[0m \u001b[0mtemboo\u001b[0m\u001b[0;34m.\u001b[0m\u001b[0mcore\u001b[0m\u001b[0;34m.\u001b[0m\u001b[0msession\u001b[0m \u001b[0;32mimport\u001b[0m \u001b[0mTembooSession\u001b[0m\u001b[0;34m\u001b[0m\u001b[0m\n\u001b[1;32m      3\u001b[0m \u001b[0;34m\u001b[0m\u001b[0m\n\u001b[1;32m      4\u001b[0m \u001b[0;31m# Create a session with your Temboo account details\u001b[0m\u001b[0;34m\u001b[0m\u001b[0;34m\u001b[0m\u001b[0m\n\u001b[1;32m      5\u001b[0m \u001b[0msession\u001b[0m \u001b[0;34m=\u001b[0m \u001b[0mTembooSession\u001b[0m\u001b[0;34m(\u001b[0m\u001b[0;34m\"ishan1892\"\u001b[0m\u001b[0;34m,\u001b[0m \u001b[0;34m\"myFirstApp\"\u001b[0m\u001b[0;34m,\u001b[0m \u001b[0;34m\"0A8zEvq69NTh8sONW6uikiQdNIMeKemX\"\u001b[0m\u001b[0;34m)\u001b[0m\u001b[0;34m\u001b[0m\u001b[0m\n",
      "\u001b[0;31mImportError\u001b[0m: No module named temboo.Library.Google.Geocoding"
     ]
    }
   ],
   "source": [
    "from temboo.Library.Google.Geocoding import GeocodeByAddress\n",
    "from temboo.core.session import TembooSession\n",
    "\n",
    "# Create a session with your Temboo account details\n",
    "session = TembooSession(\"ishan1892\", \"myFirstApp\", \"0A8zEvq69NTh8sONW6uikiQdNIMeKemX\")\n",
    "\n",
    "# Instantiate the Choreo\n",
    "geocodeByAddressChoreo = GeocodeByAddress(session)\n",
    "\n",
    "# Get an InputSet object for the Choreo\n",
    "geocodeByAddressInputs = geocodeByAddressChoreo.new_input_set()\n",
    "\n",
    "# Set the Choreo inputs\n",
    "geocodeByAddressInputs.set_Address(\"211 york street, Jersey City, NJ 07302\")\n",
    "\n",
    "# Execute the Choreo\n",
    "geocodeByAddressResults = geocodeByAddressChoreo.execute_with_results(geocodeByAddressInputs)\n",
    "\n",
    "# Print the Choreo outputs\n",
    "print(\"Latitude: \" + geocodeByAddressResults.get_Latitude())\n",
    "print(\"Longitude: \" + geocodeByAddressResults.get_Longitude())\n",
    "print(\"Response: \" + geocodeByAddressResults.get_Response())"
   ]
  },
  {
   "cell_type": "code",
   "execution_count": null,
   "metadata": {
    "collapsed": true
   },
   "outputs": [],
   "source": []
  }
 ],
 "metadata": {
  "kernelspec": {
   "display_name": "Python 2",
   "language": "python",
   "name": "python2"
  },
  "language_info": {
   "codemirror_mode": {
    "name": "ipython",
    "version": 2
   },
   "file_extension": ".py",
   "mimetype": "text/x-python",
   "name": "python",
   "nbconvert_exporter": "python",
   "pygments_lexer": "ipython2",
   "version": "2.7.10"
  }
 },
 "nbformat": 4,
 "nbformat_minor": 0
}
