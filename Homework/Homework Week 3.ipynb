{
 "cells": [
  {
   "cell_type": "markdown",
   "metadata": {},
   "source": [
    "***Data Transformations Week 3***\n"
   ]
  },
  {
   "cell_type": "markdown",
   "metadata": {},
   "source": [
    "Define a procedure histogram() that takes a list of integers and prints a histogram to the screen. For example, histogram([4, 9, 7]) should print the following:\n",
    "```\n",
    "****\n",
    "*********\n",
    "*******\n",
    "```"
   ]
  },
  {
   "cell_type": "code",
   "execution_count": null,
   "metadata": {
    "collapsed": false
   },
   "outputs": [],
   "source": [
    "#def histogram(an_array):\n",
    "    #yourcode\n",
    "    \n",
    "#tests\n",
    "histogram([4, 9, 7])\n",
    "histogram([9, 4, 7])\n",
    "\n",
    "histogram([])\n",
    "histogram([0])\n",
    " # hmmm what should these do?\n",
    "histogram([-1])\n",
    "histogram([1,2,3.14159])\n",
    "histogram(range(6, 300, 12))\n",
    "\n",
    "\n"
   ]
  },
  {
   "cell_type": "code",
   "execution_count": 22,
   "metadata": {
    "collapsed": false
   },
   "outputs": [
    {
     "ename": "SyntaxError",
     "evalue": "invalid syntax (<ipython-input-22-f7007aa70ff4>, line 1)",
     "output_type": "error",
     "traceback": [
      "\u001b[0;36m  File \u001b[0;32m\"<ipython-input-22-f7007aa70ff4>\"\u001b[0;36m, line \u001b[0;32m1\u001b[0m\n\u001b[0;31m    def histogram (4, 9 ,7)\u001b[0m\n\u001b[0m                   ^\u001b[0m\n\u001b[0;31mSyntaxError\u001b[0m\u001b[0;31m:\u001b[0m invalid syntax\n"
     ]
    }
   ],
   "source": [
    "def histogram (array[4, 9 ,7])\n",
    "stars = * \n",
    "values = (4, 9 ,7)"
   ]
  },
  {
   "cell_type": "markdown",
   "metadata": {},
   "source": [
    "Modify histogram() to sort the list and print the number in parentheses at the end of each bar. Use the same test set as before."
   ]
  },
  {
   "cell_type": "code",
   "execution_count": null,
   "metadata": {
    "collapsed": true
   },
   "outputs": [],
   "source": []
  },
  {
   "cell_type": "markdown",
   "metadata": {},
   "source": [
    "**Some string formatting exercises:**"
   ]
  },
  {
   "cell_type": "markdown",
   "metadata": {},
   "source": [
    "print the numbers 0 to 1000 in 5 columns and pad each number with 0's so that they each appear as 5 digit numbers. The first two rows should look like\n",
    "```\n",
    "00000 00001 00002 00003 00004\n",
    "00005 00006 00007 00008 00009\n",
    "```"
   ]
  },
  {
   "cell_type": "code",
   "execution_count": 21,
   "metadata": {
    "collapsed": false
   },
   "outputs": [
    {
     "ename": "SyntaxError",
     "evalue": "invalid syntax (<ipython-input-21-46801986a715>, line 1)",
     "output_type": "error",
     "traceback": [
      "\u001b[0;36m  File \u001b[0;32m\"<ipython-input-21-46801986a715>\"\u001b[0;36m, line \u001b[0;32m1\u001b[0m\n\u001b[0;31m    data = ('{0:05}'.format(num)) for num in range(0, 1001)\u001b[0m\n\u001b[0m                                    ^\u001b[0m\n\u001b[0;31mSyntaxError\u001b[0m\u001b[0;31m:\u001b[0m invalid syntax\n"
     ]
    }
   ],
   "source": [
    "data = ('{0:05}'.format(num)) for num in range(0, 1001)\n",
    "rows = [ line.strip().split(' ') for line in data.split('\\n') ]\n",
    "columns = zip(*rows)\n",
    "\n",
    "\n"
   ]
  },
  {
   "cell_type": "markdown",
   "metadata": {},
   "source": [
    "Define a base_converter() function that takes a decimal number and returns a string showing the original decimal number (with commas as thousands separators), the number in hex (start with '0x' and a space between each four digits), in octal, and binary. "
   ]
  },
  {
   "cell_type": "code",
   "execution_count": null,
   "metadata": {
    "collapsed": false
   },
   "outputs": [],
   "source": [
    "def base_converter(decimal_integer):\n",
    "    result = \"\"\n",
    "    #your code\n",
    "    \n",
    "    #end of your code\n",
    "    return(result)\n",
    "    \n",
    "#testing\n",
    "print(base_converter(0))\n",
    "\n",
    "print(base_converter(1))\n",
    "\n",
    "print(base_converter(15))\n",
    "\n",
    "print(base_converter(16))\n",
    "\n",
    "from datetime import date\n",
    "print(base_converter(date.today().toordinal()))\n",
    "\n",
    "for i in range(64):\n",
    "    print(histogram(i))\n",
    "    print(base_converter(i))\n",
    "\n",
    "\n"
   ]
  },
  {
   "cell_type": "markdown",
   "metadata": {},
   "source": [
    "Define 5 dictionaries which quantify a set of at least 5 adjectives"
   ]
  },
  {
   "cell_type": "code",
   "execution_count": null,
   "metadata": {
    "collapsed": true
   },
   "outputs": [],
   "source": []
  },
  {
   "cell_type": "markdown",
   "metadata": {},
   "source": [
    "**Data scraping**\n",
    "\n",
    "Use open and readlines() to read the file data/wine.txt into an array.\n",
    "\n",
    "Print all the four star reviews without any stars.\n",
    "\n",
    "Print the star ratings of all the reviews with the word \"good\" in them.\n"
   ]
  },
  {
   "cell_type": "code",
   "execution_count": null,
   "metadata": {
    "collapsed": true
   },
   "outputs": [],
   "source": []
  }
 ],
 "metadata": {
  "kernelspec": {
   "display_name": "Python 2",
   "language": "python",
   "name": "python2"
  },
  "language_info": {
   "codemirror_mode": {
    "name": "ipython",
    "version": 2
   },
   "file_extension": ".py",
   "mimetype": "text/x-python",
   "name": "python",
   "nbconvert_exporter": "python",
   "pygments_lexer": "ipython2",
   "version": "2.7.10"
  }
 },
 "nbformat": 4,
 "nbformat_minor": 0
}
