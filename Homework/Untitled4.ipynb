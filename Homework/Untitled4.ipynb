{
 "cells": [
  {
   "cell_type": "code",
   "execution_count": 2,
   "metadata": {
    "collapsed": false,
    "scrolled": true
   },
   "outputs": [
    {
     "name": "stdout",
     "output_type": "stream",
     "text": [
      "Latitude: 40.7166765\n",
      "Longitude: -74.0435603\n",
      "Response: <?xml version=\"1.0\" encoding=\"UTF-8\"?>\n",
      "<GeocodeResponse>\n",
      " <status>OK</status>\n",
      " <result>\n",
      "  <type>street_address</type>\n",
      "  <formatted_address>211 York St, Jersey City, NJ 07302, USA</formatted_address>\n",
      "  <address_component>\n",
      "   <long_name>211</long_name>\n",
      "   <short_name>211</short_name>\n",
      "   <type>street_number</type>\n",
      "  </address_component>\n",
      "  <address_component>\n",
      "   <long_name>York Street</long_name>\n",
      "   <short_name>York St</short_name>\n",
      "   <type>route</type>\n",
      "  </address_component>\n",
      "  <address_component>\n",
      "   <long_name>Van Vorst Park</long_name>\n",
      "   <short_name>Van Vorst Park</short_name>\n",
      "   <type>neighborhood</type>\n",
      "   <type>political</type>\n",
      "  </address_component>\n",
      "  <address_component>\n",
      "   <long_name>Jersey City</long_name>\n",
      "   <short_name>Jersey City</short_name>\n",
      "   <type>locality</type>\n",
      "   <type>political</type>\n",
      "  </address_component>\n",
      "  <address_component>\n",
      "   <long_name>Hudson County</long_name>\n",
      "   <short_name>Hudson County</short_name>\n",
      "   <type>administrative_area_level_2</type>\n",
      "   <type>political</type>\n",
      "  </address_component>\n",
      "  <address_component>\n",
      "   <long_name>New Jersey</long_name>\n",
      "   <short_name>NJ</short_name>\n",
      "   <type>administrative_area_level_1</type>\n",
      "   <type>political</type>\n",
      "  </address_component>\n",
      "  <address_component>\n",
      "   <long_name>United States</long_name>\n",
      "   <short_name>US</short_name>\n",
      "   <type>country</type>\n",
      "   <type>political</type>\n",
      "  </address_component>\n",
      "  <address_component>\n",
      "   <long_name>07302</long_name>\n",
      "   <short_name>07302</short_name>\n",
      "   <type>postal_code</type>\n",
      "  </address_component>\n",
      "  <geometry>\n",
      "   <location>\n",
      "    <lat>40.7166765</lat>\n",
      "    <lng>-74.0435603</lng>\n",
      "   </location>\n",
      "   <location_type>RANGE_INTERPOLATED</location_type>\n",
      "   <viewport>\n",
      "    <southwest>\n",
      "     <lat>40.7153345</lat>\n",
      "     <lng>-74.0449077</lng>\n",
      "    </southwest>\n",
      "    <northeast>\n",
      "     <lat>40.7180325</lat>\n",
      "     <lng>-74.0422097</lng>\n",
      "    </northeast>\n",
      "   </viewport>\n",
      "   <bounds>\n",
      "    <southwest>\n",
      "     <lat>40.7166765</lat>\n",
      "     <lng>-74.0435603</lng>\n",
      "    </southwest>\n",
      "    <northeast>\n",
      "     <lat>40.7166905</lat>\n",
      "     <lng>-74.0435571</lng>\n",
      "    </northeast>\n",
      "   </bounds>\n",
      "  </geometry>\n",
      "  <place_id>EicyMTEgWW9yayBTdCwgSmVyc2V5IENpdHksIE5KIDA3MzAyLCBVU0E</place_id>\n",
      " </result>\n",
      "</GeocodeResponse>\n",
      "\n"
     ]
    }
   ],
   "source": [
    "from temboo.Library.Google.Geocoding import GeocodeByAddress\n",
    "from temboo.core.session import TembooSession\n",
    "\n",
    "# Create a session with your Temboo account details\n",
    "session = TembooSession(\"ishan1892\", \"myFirstApp\", \"0A8zEvq69NTh8sONW6uikiQdNIMeKemX\")\n",
    "\n",
    "# Instantiate the Choreo\n",
    "geocodeByAddressChoreo = GeocodeByAddress(session)\n",
    "\n",
    "# Get an InputSet object for the Choreo\n",
    "geocodeByAddressInputs = geocodeByAddressChoreo.new_input_set()\n",
    "\n",
    "# Set the Choreo inputs\n",
    "geocodeByAddressInputs.set_Address(\"211 york street, Jersey City, NJ 07302\")\n",
    "\n",
    "# Execute the Choreo\n",
    "geocodeByAddressResults = geocodeByAddressChoreo.execute_with_results(geocodeByAddressInputs)\n",
    "\n",
    "# Print the Choreo outputs\n",
    "print(\"Latitude: \" + geocodeByAddressResults.get_Latitude())\n",
    "print(\"Longitude: \" + geocodeByAddressResults.get_Longitude())\n",
    "print(\"Response: \" + geocodeByAddressResults.get_Response())"
   ]
  },
  {
   "cell_type": "code",
   "execution_count": 3,
   "metadata": {
    "collapsed": false
   },
   "outputs": [
    {
     "name": "stdout",
     "output_type": "stream",
     "text": [
      "CensusID: 3411308\n",
      "Response: <?xml version=\"1.0\" encoding=\"UTF-8\" standalone=\"yes\"?><Response status=\"OK\" responseTime=\"12\"><Results><congressionalDistrict><envelope><maxx>-73.984883</maxx><maxy>40.82671099906653</maxy><minx>-74.254216</minx><miny>40.632629999067476</miny></envelope><geographyType>CONGRESSIONAL_DISTRICT_2010</geographyType><statefips>34</statefips><name>Congressional District 8</name><districtId>08</districtId><fips>3411308</fips></congressionalDistrict></Results></Response>\n"
     ]
    }
   ],
   "source": [
    "from temboo.Library.DataGov import GetCensusIDByCoordinates\n",
    "from temboo.core.session import TembooSession\n",
    "\n",
    "# Create a session with your Temboo account details\n",
    "session = TembooSession(\"ishan1892\", \"myFirstApp\", \"0A8zEvq69NTh8sONW6uikiQdNIMeKemX\")\n",
    "\n",
    "# Instantiate the Choreo\n",
    "getCensusIDByCoordinatesChoreo = GetCensusIDByCoordinates(session)\n",
    "\n",
    "# Get an InputSet object for the Choreo\n",
    "getCensusIDByCoordinatesInputs = getCensusIDByCoordinatesChoreo.new_input_set()\n",
    "\n",
    "# Set the Choreo inputs\n",
    "getCensusIDByCoordinatesInputs.set_GeographyType(\"congdistrict\")\n",
    "getCensusIDByCoordinatesInputs.set_Latitude(\"40.7166765\")\n",
    "getCensusIDByCoordinatesInputs.set_Longitude(\"-74.0435603\")\n",
    "\n",
    "# Execute the Choreo\n",
    "getCensusIDByCoordinatesResults = getCensusIDByCoordinatesChoreo.execute_with_results(getCensusIDByCoordinatesInputs)\n",
    "\n",
    "# Print the Choreo outputs\n",
    "print(\"CensusID: \" + getCensusIDByCoordinatesResults.get_CensusID())\n",
    "print(\"Response: \" + getCensusIDByCoordinatesResults.get_Response())"
   ]
  },
  {
   "cell_type": "code",
   "execution_count": null,
   "metadata": {
    "collapsed": true
   },
   "outputs": [],
   "source": []
  }
 ],
 "metadata": {
  "kernelspec": {
   "display_name": "Python 2",
   "language": "python",
   "name": "python2"
  },
  "language_info": {
   "codemirror_mode": {
    "name": "ipython",
    "version": 2
   },
   "file_extension": ".py",
   "mimetype": "text/x-python",
   "name": "python",
   "nbconvert_exporter": "python",
   "pygments_lexer": "ipython2",
   "version": "2.7.10"
  }
 },
 "nbformat": 4,
 "nbformat_minor": 0
}
